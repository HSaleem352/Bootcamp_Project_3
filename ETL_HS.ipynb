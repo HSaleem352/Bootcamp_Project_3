{
 "cells": [
  {
   "cell_type": "code",
   "execution_count": 1,
   "id": "ca7ed88b",
   "metadata": {},
   "outputs": [],
   "source": [
    "import pandas as pd\n",
    "import csv"
   ]
  },
  {
   "cell_type": "code",
   "execution_count": 2,
   "id": "a9a9664e",
   "metadata": {},
   "outputs": [
    {
     "data": {
      "text/plain": [
       "Index(['Unnamed: 0', 'der_ordinal_v1a', 'der_days_fu', 'der_deadbinary',\n",
       "       'der_dead30', 'der_mv', 'der_ICU', 'der_hosp', 'der_AKI_comp',\n",
       "       'der_MOF_comp', 'der_coinfection_any', 'der_sepsis_comp',\n",
       "       'der_bleeding_comp', 'der_rem', 'der_hcq', 'der_steroids_c19',\n",
       "       'der_other_tx_c19_v2', 'der_o2_ever', 'der_race_v2', 'der_insurance',\n",
       "       'der_smoking2', 'der_obesity', 'der_card', 'der_pulm', 'der_renal',\n",
       "       'der_dm2', 'der_ecogcat2', 'der_breast_biomarkers',\n",
       "       'der_cancer_status_v4', 'der_cancer_tx_timing_v2', 'der_cancertr_none',\n",
       "       'der_any_cyto', 'der_any_targeted', 'der_her2_3m', 'der_cdk46i_3m',\n",
       "       'der_other_3m', 'der_any_endo', 'der_any_immuno', 'der_any_local',\n",
       "       'der_any_other', 'der_region_v2', 'urban_rural', 'der_site_type',\n",
       "       'severity_of_covid_19_v2', 'der_tr_intent', 'der_txline', 'der_heme',\n",
       "       'der_metastatic', 'der_met_bone', 'der_met_liver', 'der_met_lung_v2',\n",
       "       'der_age_trunc', 'der_CV_event_v2', 'der_pulm_event', 'der_GI_event'],\n",
       "      dtype='object')"
      ]
     },
     "execution_count": 2,
     "metadata": {},
     "output_type": "execute_result"
    }
   ],
   "source": [
    "# read the CSV file with the dataset\n",
    "dataset_df = pd.read_csv(\"https://drive.google.com/u/0/uc?id=1IBWDyHq2TJHcvYXWJ8Kh38j_L_ZlJbkr&export=download\")\n",
    "dataset_df.keys()"
   ]
  },
  {
   "cell_type": "code",
   "execution_count": 4,
   "id": "61289d3b",
   "metadata": {},
   "outputs": [
    {
     "data": {
      "text/html": [
       "<div>\n",
       "<style scoped>\n",
       "    .dataframe tbody tr th:only-of-type {\n",
       "        vertical-align: middle;\n",
       "    }\n",
       "\n",
       "    .dataframe tbody tr th {\n",
       "        vertical-align: top;\n",
       "    }\n",
       "\n",
       "    .dataframe thead th {\n",
       "        text-align: right;\n",
       "    }\n",
       "</style>\n",
       "<table border=\"1\" class=\"dataframe\">\n",
       "  <thead>\n",
       "    <tr style=\"text-align: right;\">\n",
       "      <th></th>\n",
       "      <th>der_region_v2</th>\n",
       "      <th>urban_rural</th>\n",
       "      <th>der_site_type</th>\n",
       "      <th>severity_of_covid_19_v2</th>\n",
       "    </tr>\n",
       "  </thead>\n",
       "  <tbody>\n",
       "    <tr>\n",
       "      <th>879</th>\n",
       "      <td>Midwest</td>\n",
       "      <td>Urban</td>\n",
       "      <td>Community Practice</td>\n",
       "      <td>Mild</td>\n",
       "    </tr>\n",
       "    <tr>\n",
       "      <th>973</th>\n",
       "      <td>South</td>\n",
       "      <td>Urban</td>\n",
       "      <td>Academic Medical Center</td>\n",
       "      <td>Mild</td>\n",
       "    </tr>\n",
       "    <tr>\n",
       "      <th>229</th>\n",
       "      <td>West</td>\n",
       "      <td>Urban</td>\n",
       "      <td>Tertiary Care Center</td>\n",
       "      <td>Moderate</td>\n",
       "    </tr>\n",
       "    <tr>\n",
       "      <th>488</th>\n",
       "      <td>Northeast</td>\n",
       "      <td>Suburban</td>\n",
       "      <td>Community Practice</td>\n",
       "      <td>Moderate</td>\n",
       "    </tr>\n",
       "    <tr>\n",
       "      <th>723</th>\n",
       "      <td>South</td>\n",
       "      <td>Suburban</td>\n",
       "      <td>Tertiary Care Center</td>\n",
       "      <td>Mild</td>\n",
       "    </tr>\n",
       "    <tr>\n",
       "      <th>1055</th>\n",
       "      <td>Midwest</td>\n",
       "      <td>Suburban</td>\n",
       "      <td>Academic Medical Center</td>\n",
       "      <td>Mild</td>\n",
       "    </tr>\n",
       "    <tr>\n",
       "      <th>905</th>\n",
       "      <td>West</td>\n",
       "      <td>Suburban</td>\n",
       "      <td>Community Practice</td>\n",
       "      <td>Mild</td>\n",
       "    </tr>\n",
       "    <tr>\n",
       "      <th>1168</th>\n",
       "      <td>Midwest</td>\n",
       "      <td>Urban</td>\n",
       "      <td>Community Practice</td>\n",
       "      <td>Moderate</td>\n",
       "    </tr>\n",
       "    <tr>\n",
       "      <th>1251</th>\n",
       "      <td>Midwest</td>\n",
       "      <td>Rural</td>\n",
       "      <td>Community Practice</td>\n",
       "      <td>Mild</td>\n",
       "    </tr>\n",
       "    <tr>\n",
       "      <th>231</th>\n",
       "      <td>Midwest</td>\n",
       "      <td>Suburban</td>\n",
       "      <td>Academic Medical Center</td>\n",
       "      <td>Severe</td>\n",
       "    </tr>\n",
       "  </tbody>\n",
       "</table>\n",
       "</div>"
      ],
      "text/plain": [
       "     der_region_v2 urban_rural            der_site_type  \\\n",
       "879        Midwest       Urban       Community Practice   \n",
       "973          South       Urban  Academic Medical Center   \n",
       "229           West       Urban     Tertiary Care Center   \n",
       "488      Northeast    Suburban       Community Practice   \n",
       "723          South    Suburban     Tertiary Care Center   \n",
       "1055       Midwest    Suburban  Academic Medical Center   \n",
       "905           West    Suburban       Community Practice   \n",
       "1168       Midwest       Urban       Community Practice   \n",
       "1251       Midwest       Rural       Community Practice   \n",
       "231        Midwest    Suburban  Academic Medical Center   \n",
       "\n",
       "     severity_of_covid_19_v2  \n",
       "879                     Mild  \n",
       "973                     Mild  \n",
       "229                 Moderate  \n",
       "488                 Moderate  \n",
       "723                     Mild  \n",
       "1055                    Mild  \n",
       "905                     Mild  \n",
       "1168                Moderate  \n",
       "1251                    Mild  \n",
       "231                   Severe  "
      ]
     },
     "execution_count": 4,
     "metadata": {},
     "output_type": "execute_result"
    }
   ],
   "source": [
    "# Cleaning the dataset\n",
    "# Narrow down the dataset to view region and severity of Covid\n",
    "residence_df = dataset_df[['der_region_v2', 'urban_rural', 'der_site_type', 'severity_of_covid_19_v2']]\n",
    "\n",
    "# Clean the dataset to remove any NAN fields\n",
    "nonNaN_residence_df = residence_df.dropna()\n",
    "\n",
    "# Remove any non-US and other data\n",
    "US_residence_df = nonNaN_residence_df.loc[(nonNaN_residence_df['der_region_v2'] != 'Non-US') | (nonNaN_residence_df['der_region_v2'] != 'Other')]\n",
    "\n",
    "# Remove unknown residence \n",
    "US_residence_df_clean = US_residence_df.loc[(US_residence_df['urban_rural'] != 'Unknown') | (US_residence_df['der_region_v2'] != 'Other')]\n",
    "\n",
    "# Display a sample of the clean dataset \n",
    "US_residence_df_clean.sample(10)"
   ]
  },
  {
   "cell_type": "code",
   "execution_count": 5,
   "id": "5c2121fb",
   "metadata": {},
   "outputs": [
    {
     "data": {
      "text/plain": [
       "urban_rural\n",
       "Suburban    504\n",
       "Urban       495\n",
       "Rural        98\n",
       "Name: count, dtype: int64"
      ]
     },
     "execution_count": 5,
     "metadata": {},
     "output_type": "execute_result"
    }
   ],
   "source": [
    "residence_counts = US_residence_df_clean['urban_rural'].value_counts()\n",
    "residence_counts\n"
   ]
  },
  {
   "cell_type": "code",
   "execution_count": null,
   "id": "d93a5138",
   "metadata": {},
   "outputs": [],
   "source": []
  }
 ],
 "metadata": {
  "kernelspec": {
   "display_name": "Python 3 (ipykernel)",
   "language": "python",
   "name": "python3"
  },
  "language_info": {
   "codemirror_mode": {
    "name": "ipython",
    "version": 3
   },
   "file_extension": ".py",
   "mimetype": "text/x-python",
   "name": "python",
   "nbconvert_exporter": "python",
   "pygments_lexer": "ipython3",
   "version": "3.11.5"
  }
 },
 "nbformat": 4,
 "nbformat_minor": 5
}
